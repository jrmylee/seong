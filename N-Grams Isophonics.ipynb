{
 "cells": [
  {
   "cell_type": "code",
   "execution_count": 55,
   "metadata": {},
   "outputs": [],
   "source": [
    "import os\n",
    "import numpy \n",
    "import re\n",
    "from nltk import bigrams, trigrams\n",
    "from collections import Counter, defaultdict\n",
    "from itertools import islice\n",
    "from random import randint\n"
   ]
  },
  {
   "cell_type": "code",
   "execution_count": 56,
   "metadata": {},
   "outputs": [],
   "source": [
    "def filename_to_title(filename):\n",
    "        name = re.sub(r'\\([^)]*\\)', '', filename)\n",
    "        new_name = \"\"\n",
    "        for character in name:\n",
    "            if character == '.':\n",
    "                break\n",
    "            if character.isalnum() and not character.isnumeric():\n",
    "                new_name += character\n",
    "        return new_name\n",
    "    \n",
    "def get_files(directory):\n",
    "    files = {}\n",
    "    for dirpath, dirnames, filenames in os.walk(directory):\n",
    "        if not dirnames:\n",
    "            for filename in filenames:\n",
    "                if not filename.endswith('.lab') and not filename.endswith('.mp3') and not filename.endswith('m4a'):\n",
    "                    continue\n",
    "                song_obj = {\n",
    "                    \"filename\": filename,\n",
    "                    \"title\": filename_to_title(filename)\n",
    "                    \n",
    "                }\n",
    "                if dirpath not in files:\n",
    "                    files[dirpath] = [song_obj]\n",
    "                else:\n",
    "                    files[dirpath].append(song_obj)\n",
    "    return files\n",
    "\n",
    "def generate_song_labels(label_album_path, labels_dict):\n",
    "    song_label_dict = {}\n",
    "    file_labels = labels_dict[label_album_path]\n",
    "    for file in file_labels:\n",
    "        if not file['filename'].endswith('.lab'):\n",
    "            continue\n",
    "        song_label_dict[file['title']] = []\n",
    "        with open(os.path.join(label_album_path, file['filename'])) as fp:\n",
    "            line = fp.readline()\n",
    "            while line:\n",
    "                tokens = line.split(' ')\n",
    "                if len(tokens) == 1: tokens = line.split('\\t')\n",
    "                onset = int(float(tokens[0]))\n",
    "                offset = int(float(tokens[1]))\n",
    "                chord = tokens[2][:len(tokens[2]) - 1]\n",
    "                song_label_dict[file['title']].append(chord)\n",
    "                line = fp.readline()\n",
    "    return song_label_dict\n",
    "\n",
    "def random_chunk(li, min_chunk=1, max_chunk=3):\n",
    "    it = iter(li)\n",
    "    while True:\n",
    "        nxt = list(islice(it,randint(min_chunk,max_chunk)))\n",
    "        if nxt:\n",
    "            yield nxt\n",
    "        else:\n",
    "            break\n",
    "\n",
    "def load_data():\n",
    "    data_path = \"/Users/jrmylee/Documents/dev/projects/mir/datasets/isophonics/beetles_annotations\"\n",
    "    albums_collection = get_files(data_path)\n",
    "    albums = []\n",
    "    for album in albums_collection:\n",
    "        album_labels = generate_song_labels(album, albums_collection)\n",
    "        albums.append(album_labels)\n",
    "    \n",
    "    return albums\n",
    "        \n",
    "def ngrams(arr, n):\n",
    "    output = []\n",
    "    for i in range(len(arr)-n+1):\n",
    "        output.append(arr[i:i+n])\n",
    "    return output"
   ]
  },
  {
   "cell_type": "code",
   "execution_count": 57,
   "metadata": {},
   "outputs": [],
   "source": [
    "beetles_albums = load_data()"
   ]
  },
  {
   "cell_type": "code",
   "execution_count": 58,
   "metadata": {},
   "outputs": [],
   "source": [
    "model = defaultdict(lambda: defaultdict(lambda: 0))"
   ]
  },
  {
   "cell_type": "code",
   "execution_count": 59,
   "metadata": {},
   "outputs": [],
   "source": [
    "for album in beetles_albums:\n",
    "    for song_title in album:\n",
    "        song = album[song_title]\n",
    "        random_chunks = random_chunk(song, 5, 15)\n",
    "        \n",
    "        for chunk in random_chunks:\n",
    "            trig = ngrams(chunk, 3)\n",
    "            for c1, c2, c3 in trig:\n",
    "                model[(c1, c2)][c3] += 1                    "
   ]
  },
  {
   "cell_type": "code",
   "execution_count": 60,
   "metadata": {},
   "outputs": [],
   "source": [
    "for w1_w2 in model:\n",
    "    total_count = float(sum(model[w1_w2].values()))\n",
    "    for w3 in model[w1_w2]:\n",
    "        model[w1_w2][w3] /= total_count"
   ]
  },
  {
   "cell_type": "code",
   "execution_count": 61,
   "metadata": {},
   "outputs": [
    {
     "data": {
      "text/plain": [
       "{'C:7': 0.013824884792626729,\n",
       " 'G': 0.391705069124424,\n",
       " 'Bb': 0.013824884792626729,\n",
       " 'D': 0.15668202764976957,\n",
       " 'F': 0.11059907834101383,\n",
       " 'N': 0.013824884792626729,\n",
       " 'D/5': 0.004608294930875576,\n",
       " 'G/3': 0.03686635944700461,\n",
       " 'A:min': 0.06451612903225806,\n",
       " 'E:min/5': 0.004608294930875576,\n",
       " 'D:7': 0.013824884792626729,\n",
       " 'E': 0.03686635944700461,\n",
       " 'D:sus4': 0.018433179723502304,\n",
       " 'D:min7(4)/b7': 0.004608294930875576,\n",
       " 'F:7': 0.004608294930875576,\n",
       " 'C#:dim': 0.018433179723502304,\n",
       " 'C/7': 0.018433179723502304,\n",
       " 'F:min': 0.03686635944700461,\n",
       " 'C': 0.018433179723502304,\n",
       " 'A': 0.013824884792626729,\n",
       " 'D/b7': 0.004608294930875576}"
      ]
     },
     "execution_count": 61,
     "metadata": {},
     "output_type": "execute_result"
    }
   ],
   "source": [
    "dict(model[\"G\", \"C\"])"
   ]
  },
  {
   "cell_type": "code",
   "execution_count": 62,
   "metadata": {},
   "outputs": [
    {
     "name": "stdout",
     "output_type": "stream",
     "text": [
      "C D A A E B:7 A:7 E:7 A:7 A:7/5 A:7 E:min A D B:min E B:min F#:min B:min F#:min A D C\n"
     ]
    }
   ],
   "source": [
    "import random\n",
    "\n",
    "# starting words\n",
    "text = [\"C\", \"D\"]\n",
    "sentence_finished = False\n",
    " \n",
    "while not sentence_finished:\n",
    "  # select a random probability threshold  \n",
    "  r = random.random()\n",
    "  accumulator = .0\n",
    "\n",
    "  for word in model[tuple(text[-2:])].keys():\n",
    "      accumulator += model[tuple(text[-2:])][word]\n",
    "      # select words that are above the probability threshold\n",
    "      if accumulator >= r:\n",
    "          text.append(word)\n",
    "          break\n",
    "\n",
    "  if text[len(text) - 1] == text[0]:\n",
    "      sentence_finished = True\n",
    " \n",
    "print (' '.join([t for t in text if t]))"
   ]
  },
  {
   "cell_type": "code",
   "execution_count": 52,
   "metadata": {},
   "outputs": [
    {
     "data": {
      "text/plain": [
       "['D', 'd']"
      ]
     },
     "execution_count": 52,
     "metadata": {},
     "output_type": "execute_result"
    }
   ],
   "source": [
    "text = [\"C\", \"D\", \"d\"]\n",
    "text[-2:]"
   ]
  },
  {
   "cell_type": "code",
   "execution_count": null,
   "metadata": {},
   "outputs": [],
   "source": []
  }
 ],
 "metadata": {
  "kernelspec": {
   "display_name": "Python 3",
   "language": "python",
   "name": "python3"
  },
  "language_info": {
   "codemirror_mode": {
    "name": "ipython",
    "version": 3
   },
   "file_extension": ".py",
   "mimetype": "text/x-python",
   "name": "python",
   "nbconvert_exporter": "python",
   "pygments_lexer": "ipython3",
   "version": "3.7.6"
  }
 },
 "nbformat": 4,
 "nbformat_minor": 4
}
